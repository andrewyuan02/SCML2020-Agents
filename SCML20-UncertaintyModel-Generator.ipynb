{
 "cells": [
  {
   "cell_type": "markdown",
   "metadata": {},
   "source": [
    "# Import Libraries"
   ]
  },
  {
   "cell_type": "code",
   "execution_count": 1,
   "metadata": {},
   "outputs": [],
   "source": [
    "import pandas as pd\n",
    "import numpy as np"
   ]
  },
  {
   "cell_type": "markdown",
   "metadata": {},
   "source": [
    "# Some simple functions to generate synthetic or dummy data"
   ]
  },
  {
   "cell_type": "code",
   "execution_count": 2,
   "metadata": {},
   "outputs": [],
   "source": [
    "def produce_synthetic_game_log(T, L, q_max):\n",
    "    game_log = pd.DataFrame({'t' : [t for t in range(0, T)]})\n",
    "    for l in range(L):\n",
    "        game_log['q_' + str(l)] = [np.random.randint(q_max) for _ in range(0, T)]\n",
    "    return game_log\n",
    "\n",
    "def produce_database(number_of_games):\n",
    "    return pd.concat([produce_synthetic_game_log(T, L, q_max) for _ in range(number_of_games)])"
   ]
  },
  {
   "cell_type": "markdown",
   "metadata": {},
   "source": [
    "## Parameters of the synthetic log we want to produce"
   ]
  },
  {
   "cell_type": "code",
   "execution_count": null,
   "metadata": {
    "scrolled": true
   },
   "outputs": [],
   "source": [
    "T = 10\n",
    "L = 5\n",
    "q_max = 5\n",
    "database = produce_database(10000)\n",
    "database"
   ]
  },
  {
   "cell_type": "markdown",
   "metadata": {},
   "source": [
    "## Now, we fix a level and a time step, and clean the data accordingly"
   ]
  },
  {
   "cell_type": "code",
   "execution_count": null,
   "metadata": {
    "scrolled": true
   },
   "outputs": [],
   "source": [
    "current_level = 3\n",
    "cols = {'q_' + str(i) for i in range(0, L)}\n",
    "curr_level_col_name = 'q_' + str(current_level)\n",
    "prev_level_col_name = 'q_' + str(current_level - 1)\n",
    "drop_cols = cols - {curr_level_col_name, prev_level_col_name}\n",
    "\n",
    "current_time = 1\n",
    "time_steps = {t for t in range(0, T)}\n",
    "drop_time_steps = time_steps - {current_time, current_time - 1}\n",
    "\n",
    "# Select only the data that we need for this computation\n",
    "y = database.drop(drop_time_steps, axis=0).drop(drop_cols, axis = 1)\n",
    "y"
   ]
  },
  {
   "cell_type": "markdown",
   "metadata": {},
   "source": [
    "## Generate 3 columns: Q_{t-1}^{l-1}, Q_{t-1}^{l}, and Q_{t}^{l}"
   ]
  },
  {
   "cell_type": "code",
   "execution_count": null,
   "metadata": {
    "scrolled": true
   },
   "outputs": [],
   "source": [
    "# New column names for the mesh, we care about:\n",
    "# previous level, previous time step -> Q_{t-1}^{l-1}\n",
    "# current level, previous time step  -> Q_{t-1}^{l}\n",
    "# current level, current time step   -> Q_{t}^{l}\n",
    "prev_level_prev_time_col_name = prev_level_col_name + '_t_' + str(current_time - 1)\n",
    "curr_level_prev_time_col_name = curr_level_col_name + '_t_' + str(current_time - 1)\n",
    "curr_level_curr_time_col_name = curr_level_col_name + '_t_' + str(current_time)\n",
    "\n",
    "# Horizontal merger of the next time step data\n",
    "w = pd.concat([\n",
    "            y.drop(current_time).reset_index(drop=True).\n",
    "                rename(columns={prev_level_col_name : prev_level_prev_time_col_name,\n",
    "                                curr_level_col_name : curr_level_prev_time_col_name}), \n",
    "            y.drop(current_time - 1).reset_index(drop=True).\n",
    "                rename(columns={curr_level_col_name : curr_level_curr_time_col_name})\n",
    "              ], axis=1).drop(['t', prev_level_col_name], axis=1)\n",
    "w"
   ]
  },
  {
   "cell_type": "markdown",
   "metadata": {},
   "source": [
    "# For each possible value Q_{t}^{l} \\in {0, ..., q_max}, count"
   ]
  },
  {
   "cell_type": "code",
   "execution_count": null,
   "metadata": {
    "scrolled": true
   },
   "outputs": [],
   "source": [
    "# Count occurrences from 0 to q_max.\n",
    "# More specifically, for each value q \\in {0, ..., q_max}, create a column with a 1 if \n",
    "# the current row coincides with q, and 0 otherwise. \n",
    "for i in range(0, q_max):\n",
    "    w[curr_level_col_name + '_t_' + str(current_time) + '=' + str(i)] = \\\n",
    "            np.where(w[curr_level_col_name + '_t_' + str(current_time)] == i, 1, 0)\n",
    "w = w.drop(curr_level_col_name + '_t_' + str(current_time), axis=1)\n",
    "w"
   ]
  },
  {
   "cell_type": "markdown",
   "metadata": {},
   "source": [
    "## The final magic here... group by the two variables: Q_{t-1}^{l-1}, Q_{t-1}^{l} and sum up"
   ]
  },
  {
   "cell_type": "code",
   "execution_count": null,
   "metadata": {
    "scrolled": true
   },
   "outputs": [],
   "source": [
    "# Computing histograms\n",
    "z = w.groupby([prev_level_prev_time_col_name, curr_level_prev_time_col_name]).sum()\n",
    "z"
   ]
  },
  {
   "cell_type": "markdown",
   "metadata": {},
   "source": [
    "# Normalization into a probability distribution"
   ]
  },
  {
   "cell_type": "code",
   "execution_count": null,
   "metadata": {
    "scrolled": true
   },
   "outputs": [],
   "source": [
    "final = z.div(z.sum(axis=1), axis=0)\n",
    "final"
   ]
  },
  {
   "cell_type": "markdown",
   "metadata": {},
   "source": [
    "# Save to .csv file. This saves a SINGLE conditional probability table..."
   ]
  },
  {
   "cell_type": "code",
   "execution_count": null,
   "metadata": {},
   "outputs": [],
   "source": [
    "final.to_csv('data/T_' + str(T) + '_L_' + str(L) + '_' + curr_level_curr_time_col_name + '.csv')"
   ]
  }
 ],
 "metadata": {
  "kernelspec": {
   "display_name": "Python 3",
   "language": "python",
   "name": "python3"
  },
  "language_info": {
   "codemirror_mode": {
    "name": "ipython",
    "version": 3
   },
   "file_extension": ".py",
   "mimetype": "text/x-python",
   "name": "python",
   "nbconvert_exporter": "python",
   "pygments_lexer": "ipython3",
   "version": "3.7.1"
  }
 },
 "nbformat": 4,
 "nbformat_minor": 2
}
